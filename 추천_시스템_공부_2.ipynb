{
 "cells": [
  {
   "cell_type": "code",
   "execution_count": 1,
   "metadata": {},
   "outputs": [
    {
     "name": "stdout",
     "output_type": "stream",
     "text": [
      "점심 추천기 프로그램입니다!\n",
      "\n",
      "메뉴판\n",
      "======================\n",
      "갈비탕            10000원 \n",
      "떡볶이             7000원\n",
      "오뎅              5000원\n",
      "감자탕             8000원\n",
      "김치찌개            8000원\n",
      "제육볶음            7000원\n",
      "김치볶음밥           5000원\n",
      "======================\n",
      "\n"
     ]
    }
   ],
   "source": [
    "print(\"점심 추천기 프로그램입니다!\")\n",
    "\n",
    "print('''\n",
    "메뉴판\n",
    "======================\n",
    "{0:<10}{1:>10}{won} \n",
    "{2:<10}{3:>10}{won}\n",
    "{4:<10}{5:>10}{won}\n",
    "{6:<10}{7:>10}{won}\n",
    "{8:<10}{9:>10}{won}\n",
    "{10:<10}{11:>10}{won}\n",
    "{12:<10}{13:>10}{won}\n",
    "======================\n",
    "'''.format('갈비탕', 10000,\n",
    "           '떡볶이', 7000,\n",
    "           '오뎅', 5000,\n",
    "           '감자탕', 8000,\n",
    "           '김치찌개', 8000,\n",
    "           '제육볶음', 7000,\n",
    "           '김치볶음밥', 5000, won=\"원\"))"
   ]
  },
  {
   "cell_type": "code",
   "execution_count": 2,
   "metadata": {},
   "outputs": [],
   "source": [
    "my_list = list()"
   ]
  },
  {
   "cell_type": "code",
   "execution_count": 3,
   "metadata": {},
   "outputs": [],
   "source": [
    "prices = [10000, 7000, 5000, 8000, 8000, 7000, 5000]"
   ]
  },
  {
   "cell_type": "code",
   "execution_count": 4,
   "metadata": {},
   "outputs": [],
   "source": [
    "menus = list()\n",
    "menus.append(\"갈비탕\")\n",
    "menus.append(\"떡볶이\")\n",
    "menus.append(\"오뎅\")\n",
    "menus.append(\"감자탕\")\n",
    "menus.append(\"김치찌개\")\n",
    "menus.append(\"제육볶음\")\n",
    "menus.append(\"김치볶음밥\")"
   ]
  },
  {
   "cell_type": "code",
   "execution_count": 5,
   "metadata": {},
   "outputs": [
    {
     "name": "stdout",
     "output_type": "stream",
     "text": [
      "\n",
      "메뉴판\n",
      "======================\n",
      "갈비탕            10000원 \n",
      "떡볶이             7000원\n",
      "오뎅              5000원\n",
      "감자탕             8000원\n",
      "김치찌개            8000원\n",
      "제육볶음            7000원\n",
      "김치볶음밥           5000원\n",
      "======================\n",
      "\n"
     ]
    }
   ],
   "source": [
    "print('''\n",
    "메뉴판\n",
    "======================\n",
    "{0:<10}{1:>10}{won} \n",
    "{2:<10}{3:>10}{won}\n",
    "{4:<10}{5:>10}{won}\n",
    "{6:<10}{7:>10}{won}\n",
    "{8:<10}{9:>10}{won}\n",
    "{10:<10}{11:>10}{won}\n",
    "{12:<10}{13:>10}{won}\n",
    "======================\n",
    "'''.format(menus[0], prices[0],\n",
    "           menus[1], prices[1],\n",
    "           menus[2], prices[2],\n",
    "           menus[3], prices[3],\n",
    "           menus[4], prices[4],\n",
    "           menus[5], prices[5],\n",
    "           menus[6], prices[6], won=\"원\"))"
   ]
  },
  {
   "cell_type": "code",
   "execution_count": 6,
   "metadata": {},
   "outputs": [],
   "source": [
    "import random"
   ]
  },
  {
   "cell_type": "code",
   "execution_count": 7,
   "metadata": {},
   "outputs": [],
   "source": [
    "choice = random.randrange(0,len(menus))"
   ]
  },
  {
   "cell_type": "code",
   "execution_count": 8,
   "metadata": {},
   "outputs": [
    {
     "name": "stdout",
     "output_type": "stream",
     "text": [
      "오늘의 메뉴 선택 : 제육볶음\n",
      "메뉴의 가격 : 7000\n"
     ]
    }
   ],
   "source": [
    "print(\"오늘의 메뉴 선택 : {0}\".format(menus[choice]))\n",
    "print(\"메뉴의 가격 : {0}\".format(prices[choice]))"
   ]
  },
  {
   "cell_type": "code",
   "execution_count": 9,
   "metadata": {},
   "outputs": [],
   "source": [
    "# https://book.coalastudy.com/python-basic/"
   ]
  }
 ],
 "metadata": {
  "kernelspec": {
   "display_name": "Python 3",
   "language": "python",
   "name": "python3"
  },
  "language_info": {
   "codemirror_mode": {
    "name": "ipython",
    "version": 3
   },
   "file_extension": ".py",
   "mimetype": "text/x-python",
   "name": "python",
   "nbconvert_exporter": "python",
   "pygments_lexer": "ipython3",
   "version": "3.11.2"
  },
  "orig_nbformat": 4
 },
 "nbformat": 4,
 "nbformat_minor": 2
}
