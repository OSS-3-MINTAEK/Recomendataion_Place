{
 "cells": [
  {
   "cell_type": "code",
   "execution_count": 1,
   "metadata": {},
   "outputs": [],
   "source": [
    "import pandas as pd\n",
    "from geopy.geocoders import Nominatim\n",
    "from geopy import distance"
   ]
  },
  {
   "cell_type": "code",
   "execution_count": 2,
   "metadata": {},
   "outputs": [],
   "source": [
    "cafe_data = pd.read_csv('cafe_place_data.csv',encoding='utf-8')\n",
    "food_data = pd.read_csv('food_place_data.csv',encoding='utf-8')\n",
    "tour_data = pd.read_csv('tourist_place_data.csv',encoding='utf-8')"
   ]
  },
  {
   "cell_type": "code",
   "execution_count": 19,
   "metadata": {},
   "outputs": [],
   "source": [
    "test = cafe_data['지역'][2]\n",
    "test2 = cafe_data['지역'][4]"
   ]
  },
  {
   "cell_type": "code",
   "execution_count": 24,
   "metadata": {},
   "outputs": [
    {
     "name": "stdout",
     "output_type": "stream",
     "text": [
      "(33.4930566, 126.5130589) (33.2572971, 126.515299)\n"
     ]
    }
   ],
   "source": [
    "geolocator = Nominatim(user_agent=\"geopy\")\n",
    "\n",
    "location = geolocator.geocode(test)\n",
    "if location:\n",
    "    coords_1 = (location.latitude, location.longitude)\n",
    "\n",
    "location = geolocator.geocode(test2)\n",
    "if location:\n",
    "    coords_2 = (location.latitude, location.longitude)\n",
    "\n",
    "print(coords_1, coords_2)"
   ]
  },
  {
   "cell_type": "code",
   "execution_count": 23,
   "metadata": {},
   "outputs": [
    {
     "name": "stdout",
     "output_type": "stream",
     "text": [
      "26.149188717468306\n"
     ]
    }
   ],
   "source": [
    "dist = distance.distance(coords_1, coords_2).kilometers\n",
    "print(dist)"
   ]
  },
  {
   "cell_type": "code",
   "execution_count": null,
   "metadata": {},
   "outputs": [],
   "source": []
  }
 ],
 "metadata": {
  "kernelspec": {
   "display_name": "base",
   "language": "python",
   "name": "python3"
  },
  "language_info": {
   "codemirror_mode": {
    "name": "ipython",
    "version": 3
   },
   "file_extension": ".py",
   "mimetype": "text/x-python",
   "name": "python",
   "nbconvert_exporter": "python",
   "pygments_lexer": "ipython3",
   "version": "3.10.9"
  },
  "orig_nbformat": 4
 },
 "nbformat": 4,
 "nbformat_minor": 2
}
